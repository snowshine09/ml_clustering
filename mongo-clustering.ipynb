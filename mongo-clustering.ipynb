{
 "cells": [
  {
   "cell_type": "code",
   "execution_count": 152,
   "metadata": {},
   "outputs": [
    {
     "name": "stderr",
     "output_type": "stream",
     "text": [
      "gower_function-v6.4.ipynb:71: FutureWarning: Conversion of the second argument of issubdtype from `int` to `np.signedinteger` is deprecated. In future, it will be treated as `np.int64 == np.dtype(int).type`.\n",
      "  \"source\": [\n",
      "gower_function-v6.4.ipynb:71: FutureWarning: Conversion of the second argument of issubdtype from `int` to `np.signedinteger` is deprecated. In future, it will be treated as `np.int64 == np.dtype(int).type`.\n",
      "  \"source\": [\n",
      "gower_function-v6.4.ipynb:71: FutureWarning: Conversion of the second argument of issubdtype from `int` to `np.signedinteger` is deprecated. In future, it will be treated as `np.int64 == np.dtype(int).type`.\n",
      "  \"source\": [\n",
      "gower_function-v6.4.ipynb:71: FutureWarning: Conversion of the second argument of issubdtype from `int` to `np.signedinteger` is deprecated. In future, it will be treated as `np.int64 == np.dtype(int).type`.\n",
      "  \"source\": [\n",
      "gower_function-v6.4.ipynb:71: FutureWarning: Conversion of the second argument of issubdtype from `int` to `np.signedinteger` is deprecated. In future, it will be treated as `np.int64 == np.dtype(int).type`.\n",
      "  \"source\": [\n",
      "gower_function-v6.4.ipynb:71: FutureWarning: Conversion of the second argument of issubdtype from `int` to `np.signedinteger` is deprecated. In future, it will be treated as `np.int64 == np.dtype(int).type`.\n",
      "  \"source\": [\n",
      "gower_function-v6.4.ipynb:71: FutureWarning: Conversion of the second argument of issubdtype from `int` to `np.signedinteger` is deprecated. In future, it will be treated as `np.int64 == np.dtype(int).type`.\n",
      "  \"source\": [\n",
      "gower_function-v6.4.ipynb:71: FutureWarning: Conversion of the second argument of issubdtype from `int` to `np.signedinteger` is deprecated. In future, it will be treated as `np.int64 == np.dtype(int).type`.\n",
      "  \"source\": [\n"
     ]
    }
   ],
   "source": [
    "%run gower_function-v6.4.ipynb\n",
    "from pymongo import MongoClient\n",
    "from random import randint\n",
    "import pandas as pd\n",
    "import numpy as np\n",
    "import re\n",
    "import category_encoders as ce\n",
    "from scipy.spatial.distance import pdist,squareform, jaccard, cosine\n",
    "from sklearn.metrics.pairwise import cosine_similarity\n",
    "from scipy import sparse\n",
    "from sklearn.preprocessing import StandardScaler, OneHotEncoder, OrdinalEncoder"
   ]
  },
  {
   "cell_type": "code",
   "execution_count": 153,
   "metadata": {},
   "outputs": [],
   "source": [
    "client = MongoClient(port=27017)\n",
    "db = client.weare    "
   ]
  },
  {
   "cell_type": "code",
   "execution_count": 154,
   "metadata": {},
   "outputs": [],
   "source": [
    "student_queries = db.students.find({})\n",
    "students = pd.DataFrame(list(student_queries))"
   ]
  },
  {
   "cell_type": "code",
   "execution_count": 155,
   "metadata": {},
   "outputs": [],
   "source": [
    "students['id']=students.Email.str.split(\"@\", n=1, expand=True)[0]\n",
    "if '_id' in students.columns:\n",
    "    del students['_id']"
   ]
  },
  {
   "cell_type": "code",
   "execution_count": 156,
   "metadata": {},
   "outputs": [],
   "source": [
    "#drop rows with 5 or more null values\n",
    "students.dropna(thresh=5, inplace=True)\n",
    "students = students.replace('', np.nan)"
   ]
  },
  {
   "cell_type": "code",
   "execution_count": 157,
   "metadata": {},
   "outputs": [],
   "source": [
    "#number of courses, credits are too dirty as many entered text instead of a number\n",
    "drop_columns = [\"surveyCompletion\", \"Duration (in seconds)\", \"NumCourses\", \"transferCredits\", \"NumTranCredits\",\n",
    "                \"WhyProfile\", \"otherChannels\", \"otherEmploy\", \"NonUS\", \"otherIndusry\", \"KnownThroughProfile\",\n",
    "                \"otherEth\", \"PPLinPerson\", \"otherEmail\"]\n",
    "#only drop these columns if they actually exist in the data\n",
    "drop_columns = [col for col in drop_columns if col in students.columns]\n",
    "students.drop(columns=drop_columns, inplace=True)\n",
    "#names of all the soc columns\n",
    "SOCs = ['SOC'+str(x+1) for x in range(10)]\n",
    "#names of all the CCE columns\n",
    "CCEs = ['CCE'+str(x+1) for x in range(24)]\n",
    "#mapping from each text column to ordinal values\n",
    "#format is array of dicts containing keys 'col' and 'mapping'\n",
    "ordinal_cols_mapping = []"
   ]
  },
  {
   "cell_type": "code",
   "execution_count": 158,
   "metadata": {},
   "outputs": [],
   "source": [
    "#the following are mappings from textual column values to numberical ones\n",
    "important_scale = [\n",
    "        ('Extremely important', 7),\n",
    "        ('Pretty important', 6),\n",
    "        ('Fairly important', 5),\n",
    "        ('Moderately important', 4),\n",
    "        ('Somewhat important', 3),\n",
    "        ('A little important', 2),\n",
    "        ('Not at all important', 1)\n",
    "]\n",
    "\n",
    "interest_scale = [\n",
    "    ('Extremely interested', 5),\n",
    "    ('Rather interested', 4),\n",
    "    ('Somewhat interested', 3),\n",
    "    ('A bit of interest', 2),\n",
    "    ('Not at all interested', 1)\n",
    "]\n",
    "\n",
    "Agree_scale = [\n",
    "        ('Strongly agree', 5),\n",
    "        ('Somewhat agree', 4),\n",
    "        ('Neither agree nor disagree', 3),\n",
    "        ('Somewhat disagree', 2),\n",
    "        ('Strongly disagree', 1)\n",
    "]"
   ]
  },
  {
   "cell_type": "code",
   "execution_count": 159,
   "metadata": {},
   "outputs": [],
   "source": [
    "#fill in the mapping array \n",
    "for SOC in SOCs:\n",
    "    ordinal_cols_mapping.append({\n",
    "        \"col\": SOC,\n",
    "        \"mapping\": Agree_scale\n",
    "    })\n",
    "\n",
    "for CCE in CCEs:\n",
    "    ordinal_cols_mapping.append({\n",
    "        \"col\": CCE,\n",
    "        \"mapping\": Agree_scale\n",
    "    })\n",
    "\n",
    "for PeerInfo in [\"PeerAvail\", \"PeerProfession\", \"PeerEdu\", \"PeerDetails\"]:\n",
    "    ordinal_cols_mapping.append({\n",
    "        \"col\": PeerInfo,\n",
    "        \"mapping\": important_scale\n",
    "    })\n",
    "\n",
    "ordinal_cols_mapping.append({\n",
    "    \"col\": \"Mconnected\",\n",
    "    \"mapping\": interest_scale\n",
    "})"
   ]
  },
  {
   "cell_type": "code",
   "execution_count": 160,
   "metadata": {},
   "outputs": [],
   "source": [
    "encoder = ce.OrdinalEncoder(mapping=ordinal_cols_mapping, return_df=True)\n",
    "df = encoder.fit_transform(students)\n",
    "#Create new columns by taking the mean of related columns for each row\n",
    "df['SOC_f'] = df.apply(lambda row: np.mean([row['SOC9'], row['SOC10']]), axis=1)\n",
    "df['SOC_id'] = df.apply(lambda row: np.mean([row['SOC1'], row['SOC2'], row['SOC3'], row['SOC4'], row['SOC5']]), axis=1)\n",
    "df['CCE_IR'] = df.apply(lambda row: np.mean([row['CCE13'], row['CCE10'], row['CCE19'], row['CCE9']]), axis=1)\n",
    "df['CCE_Coor'] = df.apply(lambda row: np.mean([row['CCE24'], row['CCE20'], row['CCE22'], row['CCE21'], row['CCE17']]), axis=1)\n",
    "df['CCE_SS'] = df.apply(lambda row: np.mean([row['CCE1'], row['CCE2'], row['CCE3'], row['CCE4']]), axis=1)\n",
    "df.drop(columns=CCEs + SOCs, inplace=True)"
   ]
  },
  {
   "cell_type": "code",
   "execution_count": 161,
   "metadata": {},
   "outputs": [
    {
     "name": "stdout",
     "output_type": "stream",
     "text": [
      "Before digit processing, kids are [ 0.  1.  2.  3.  4. nan  5.  9.]\n"
     ]
    }
   ],
   "source": [
    "none_i = re.compile(r'none', flags=re.IGNORECASE)\n",
    "df['kids'].replace(none_i, 0, inplace=True)\n",
    "none_i = re.compile(r'zero', flags=re.IGNORECASE)\n",
    "df['kids'].replace(none_i, 0, inplace=True)\n",
    "stringany = re.compile(r'[a-zA-Z ()]+', flags=re.IGNORECASE)\n",
    "print(f'Before digit processing, kids are {df.kids.unique()}')\n",
    "df.kids = df['kids'].replace(stringany, '')"
   ]
  },
  {
   "cell_type": "code",
   "execution_count": 162,
   "metadata": {},
   "outputs": [
    {
     "name": "stdout",
     "output_type": "stream",
     "text": [
      "mode listed are \n",
      "gender                         Female\n",
      "InUS                              Yes\n",
      "ethnicity                   Caucasian\n",
      "Usstate                  Pennsylvania\n",
      "marrital                      Married\n",
      "employment    Working (paid employee)\n",
      "industry         Educational services\n",
      "Name: 0, dtype: object\n",
      "1\n"
     ]
    }
   ],
   "source": [
    "categorical_cols = [\"gender\", \"InUS\", \"ethnicity\", \"Usstate\", \"marrital\", \"employment\", \"industry\"]\n",
    "categorical_cols = [c for c in categorical_cols if c in df.columns]\n",
    "df_c_mode = df[categorical_cols].mode()\n",
    "print(f'mode listed are \\n{df_c_mode.iloc[0]}')\n",
    "print(len(df_c_mode))\n",
    "for col in categorical_cols+['kids']:\n",
    "    df[co].fillna(df[col].mode().iloc[0], inplace=True)\n"
   ]
  },
  {
   "cell_type": "code",
   "execution_count": 163,
   "metadata": {},
   "outputs": [],
   "source": [
    "# fill with mode, mean, or median\n",
    "df_mode, df_mean, df_median = df.mode().iloc[0], df.mean(), df.median()\n",
    "df.fillna(df_median, inplace=True)"
   ]
  },
  {
   "cell_type": "code",
   "execution_count": 170,
   "metadata": {
    "scrolled": true
   },
   "outputs": [
    {
     "name": "stderr",
     "output_type": "stream",
     "text": [
      "/home/matt/.conda/envs/weare/lib/python3.7/site-packages/ipykernel_launcher.py:71: FutureWarning: Conversion of the second argument of issubdtype from `int` to `np.signedinteger` is deprecated. In future, it will be treated as `np.int64 == np.dtype(int).type`.\n"
     ]
    }
   ],
   "source": [
    "numeric_columns = df._get_numeric_data().columns\n",
    "col_is_categorical = [col not in numeric_columns for col in df.columns]\n",
    "distances = gower_distances(df, categorical_features=col_is_categorical)"
   ]
  },
  {
   "cell_type": "code",
   "execution_count": 200,
   "metadata": {},
   "outputs": [],
   "source": [
    "def get_matches(index, distances, df, num_matches=1):\n",
    "    best_scores = sorted(distances[index])[1: 1+num_matches]\n",
    "    best_entries = [np.where(distances[index]==score)[0][0] for score in best_scores]\n",
    "    og_user = df.iloc[[index]]\n",
    "    best_users = [df.iloc[[entry]] for entry in best_entries]\n",
    "    all_users = [og_user, *best_users]\n",
    "    concat = pd.concat(all_users)\n",
    "    return concat\n",
    "def display_matches(distances, df, num_matches=10):\n",
    "    frame = get_match(0, distances, df)\n",
    "    for i in range(1, num_matches):\n",
    "        match = get_matches(i, distances, df, display_mode=True)\n",
    "        frame = pd.concat([frame, match])\n",
    "    return frame"
   ]
  },
  {
   "cell_type": "code",
   "execution_count": 199,
   "metadata": {},
   "outputs": [
    {
     "data": {
      "text/plain": [
       "[  ActiveDuty BWS         Degree           Email First Name     IP Address  \\\n",
       " 0        NaN  No  Master degree  sxa459@psu.edu       Sana  72.94.219.150   \n",
       " \n",
       "   InUS   Last Name   Latitude  Longitude  ...                industry  kids  \\\n",
       " 0  Yes  Abdulateef  40.351395 -75.930603  ...    Educational services   0.0   \n",
       " \n",
       "   marrital progress      id  SOC_f  SOC_id  CCE_IR  CCE_Coor CCE_SS  \n",
       " 0  Married     14.0  sxa459    2.5     5.0     4.5       3.8    3.5  \n",
       " \n",
       " [1 rows x 38 columns],\n",
       "     ActiveDuty BWS         Degree          Email First Name      IP Address  \\\n",
       " 172        NaN  No  Master degree  deb77@psu.edu      Debra  73.187.239.247   \n",
       " \n",
       "     InUS   Last Name   Latitude  Longitude  ...                industry  kids  \\\n",
       " 172  Yes  Barshinger  39.893906 -76.557999  ...    Educational services   0.0   \n",
       " \n",
       "     marrital progress     id  SOC_f  SOC_id  CCE_IR  CCE_Coor CCE_SS  \n",
       " 172  Married      8.0  deb77    3.0     4.4    4.25       4.4   4.25  \n",
       " \n",
       " [1 rows x 38 columns],\n",
       "    ActiveDuty BWS           Degree          Email First Name       IP Address  \\\n",
       " 32        NaN  No  Bachelor degree  ALH19@PSU.EDU      Apryl  128.118.208.194   \n",
       " \n",
       "    InUS Last Name   Latitude  Longitude  ...                industry  kids  \\\n",
       " 32  Yes      Hawn  40.784897    -77.847  ...    Educational services   0.0   \n",
       " \n",
       "    marrital progress     id  SOC_f  SOC_id  CCE_IR  CCE_Coor CCE_SS  \n",
       " 32  Married     12.0  ALH19    2.0     4.0     4.0       4.0    4.0  \n",
       " \n",
       " [1 rows x 38 columns],\n",
       "    ActiveDuty BWS         Degree          Email First Name     IP Address  \\\n",
       " 40        NaN  No  Master degree  sab89@psu.edu      Sarah  74.193.239.88   \n",
       " \n",
       "    InUS Last Name   Latitude  Longitude  ...                industry  kids  \\\n",
       " 40  Yes     Brown  31.134506 -93.180298  ...    Educational services   2.0   \n",
       " \n",
       "    marrital progress     id  SOC_f  SOC_id  CCE_IR  CCE_Coor CCE_SS  \n",
       " 40  Married     50.0  sab89    2.0     4.4     5.0       4.8   4.75  \n",
       " \n",
       " [1 rows x 38 columns],\n",
       "     ActiveDuty BWS         Degree          Email First Name    IP Address  \\\n",
       " 134        NaN  No  Master degree  cdh32@psu.edu    Carolyn  96.59.78.230   \n",
       " \n",
       "     InUS Last Name   Latitude  Longitude  ...                industry  kids  \\\n",
       " 134  Yes     Holme  27.886703 -82.511703  ...    Finance or insurance   0.0   \n",
       " \n",
       "     marrital progress     id  SOC_f  SOC_id  CCE_IR  CCE_Coor CCE_SS  \n",
       " 134  Married      2.0  cdh32    2.0     4.2     4.5       3.4    4.5  \n",
       " \n",
       " [1 rows x 38 columns],\n",
       "    ActiveDuty BWS         Degree           Email First Name     IP Address  \\\n",
       " 89        NaN  No  Master degree  mlb593@psu.edu      Maria  165.189.65.30   \n",
       " \n",
       "    InUS Last Name   Latitude  Longitude  ...                industry  kids  \\\n",
       " 89  Yes   Butters  43.020798 -89.360001  ...    Educational services   0.0   \n",
       " \n",
       "    marrital progress      id  SOC_f  SOC_id  CCE_IR  CCE_Coor CCE_SS  \n",
       " 89  Married     10.0  mlb593    1.0     3.6     4.5       4.4   3.75  \n",
       " \n",
       " [1 rows x 38 columns],\n",
       "    ActiveDuty BWS         Degree           Email First Name     IP Address  \\\n",
       " 93        NaN  No  Master degree  jlc672@psu.edu   Jennifer  72.69.210.247   \n",
       " \n",
       "    InUS Last Name   Latitude  Longitude  ...    \\\n",
       " 93  Yes     Cogen  40.714294 -74.005997  ...     \n",
       " \n",
       "                              industry  kids              marrital progress  \\\n",
       " 93  Arts, entertainment or recreation   0.0  Single/Never Married     41.0   \n",
       " \n",
       "         id  SOC_f  SOC_id  CCE_IR  CCE_Coor CCE_SS  \n",
       " 93  jlc672    2.5     3.2     4.5       3.8    3.5  \n",
       " \n",
       " [1 rows x 38 columns],\n",
       "     ActiveDuty BWS         Degree           Email First Name     IP Address  \\\n",
       " 111        NaN  No  Master degree  skg143@psu.edu      Susan  216.15.78.209   \n",
       " \n",
       "     InUS Last Name   Latitude  Longitude  ...                industry  kids  \\\n",
       " 111  Yes      Gair  40.657104 -75.502998  ...    Educational services   0.0   \n",
       " \n",
       "     marrital progress      id  SOC_f  SOC_id  CCE_IR  CCE_Coor CCE_SS  \n",
       " 111  Married     91.0  skg143    2.0     4.6     4.5       3.8   3.75  \n",
       " \n",
       " [1 rows x 38 columns],\n",
       "     ActiveDuty BWS           Degree           Email First Name  \\\n",
       " 331         No  No  Bachelor degree  cxd415@psu.edu    Caitlin   \n",
       " \n",
       "          IP Address InUS Last Name   Latitude  Longitude  ...    \\\n",
       " 331  67.183.131.121  Yes     Davis  47.025696  -122.7967  ...     \n",
       " \n",
       "                  industry  kids marrital progress      id  SOC_f  SOC_id  \\\n",
       " 331  Educational services   0.0  Married     29.0  cxd415    2.5     4.2   \n",
       " \n",
       "      CCE_IR  CCE_Coor CCE_SS  \n",
       " 331    4.75       4.4    4.5  \n",
       " \n",
       " [1 rows x 38 columns],\n",
       "     ActiveDuty BWS           Degree            Email First Name  \\\n",
       " 346        NaN  No  Bachelor degree  dmd6002@psu.edu     Denise   \n",
       " \n",
       "          IP Address InUS  Last Name   Latitude  Longitude  ...    \\\n",
       " 346  107.77.202.214  Yes  Dollarton  39.735107 -75.668404  ...     \n",
       " \n",
       "                  industry  kids              marrital progress       id  \\\n",
       " 346  Educational services   4.0  Single/Never Married      6.0  dmd6002   \n",
       " \n",
       "      SOC_f  SOC_id  CCE_IR  CCE_Coor CCE_SS  \n",
       " 346    1.0     3.8     4.5       4.6   3.75  \n",
       " \n",
       " [1 rows x 38 columns],\n",
       "     ActiveDuty BWS         Degree          Email First Name    IP Address  \\\n",
       " 160        NaN  No  Master degree  LRW14@PSU.EDU    Lindsey  71.58.221.20   \n",
       " \n",
       "     InUS Last Name   Latitude  Longitude  ...    \\\n",
       " 160  Yes    Fenton  40.784897    -77.847  ...     \n",
       " \n",
       "                               industry  kids marrital progress     id  SOC_f  \\\n",
       " 160  Arts, entertainment or recreation   0.0  Married      5.0  LRW14    1.5   \n",
       " \n",
       "      SOC_id  CCE_IR  CCE_Coor CCE_SS  \n",
       " 160     3.8     4.0       3.0    3.0  \n",
       " \n",
       " [1 rows x 38 columns]]"
      ]
     },
     "execution_count": 199,
     "metadata": {},
     "output_type": "execute_result"
    }
   ],
   "source": [
    "display_matches(distances, df)\n",
    "get_matches(0, distances, df, num_matches=10)"
   ]
  }
 ],
 "metadata": {
  "kernelspec": {
   "display_name": "Python 3",
   "language": "python",
   "name": "python3"
  },
  "language_info": {
   "codemirror_mode": {
    "name": "ipython",
    "version": 3
   },
   "file_extension": ".py",
   "mimetype": "text/x-python",
   "name": "python",
   "nbconvert_exporter": "python",
   "pygments_lexer": "ipython3",
   "version": "3.7.2"
  }
 },
 "nbformat": 4,
 "nbformat_minor": 2
}
