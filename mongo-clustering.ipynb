{
 "cells": [
  {
   "cell_type": "code",
   "execution_count": 93,
   "metadata": {},
   "outputs": [
    {
     "name": "stderr",
     "output_type": "stream",
     "text": [
      "gower.ipynb:71: FutureWarning: Conversion of the second argument of issubdtype from `int` to `np.signedinteger` is deprecated. In future, it will be treated as `np.int64 == np.dtype(int).type`.\n",
      "  \"source\": [\n",
      "gower.ipynb:71: FutureWarning: Conversion of the second argument of issubdtype from `int` to `np.signedinteger` is deprecated. In future, it will be treated as `np.int64 == np.dtype(int).type`.\n",
      "  \"source\": [\n",
      "gower.ipynb:71: FutureWarning: Conversion of the second argument of issubdtype from `int` to `np.signedinteger` is deprecated. In future, it will be treated as `np.int64 == np.dtype(int).type`.\n",
      "  \"source\": [\n",
      "gower.ipynb:71: FutureWarning: Conversion of the second argument of issubdtype from `int` to `np.signedinteger` is deprecated. In future, it will be treated as `np.int64 == np.dtype(int).type`.\n",
      "  \"source\": [\n",
      "gower.ipynb:71: FutureWarning: Conversion of the second argument of issubdtype from `int` to `np.signedinteger` is deprecated. In future, it will be treated as `np.int64 == np.dtype(int).type`.\n",
      "  \"source\": [\n",
      "gower.ipynb:71: FutureWarning: Conversion of the second argument of issubdtype from `int` to `np.signedinteger` is deprecated. In future, it will be treated as `np.int64 == np.dtype(int).type`.\n",
      "  \"source\": [\n",
      "gower.ipynb:71: FutureWarning: Conversion of the second argument of issubdtype from `int` to `np.signedinteger` is deprecated. In future, it will be treated as `np.int64 == np.dtype(int).type`.\n",
      "  \"source\": [\n"
     ]
    }
   ],
   "source": [
    "%run gower.ipynb\n",
    "from pymongo import MongoClient\n",
    "from random import randint\n",
    "import pandas as pd\n",
    "import numpy as np\n",
    "import re\n",
    "import category_encoders as ce\n",
    "from scipy.spatial.distance import pdist,squareform, jaccard, cosine\n",
    "from sklearn.metrics.pairwise import cosine_similarity\n",
    "from scipy import sparse\n",
    "from sklearn.preprocessing import StandardScaler, OneHotEncoder, OrdinalEncoder"
   ]
  },
  {
   "cell_type": "code",
   "execution_count": 2,
   "metadata": {},
   "outputs": [],
   "source": [
    "client = MongoClient(port=27017)\n",
    "db = client.weare    "
   ]
  },
  {
   "cell_type": "code",
   "execution_count": 14,
   "metadata": {},
   "outputs": [],
   "source": [
    "student_queries = db.students.find({})\n",
    "students = pd.DataFrame(list(student_queries))"
   ]
  },
  {
   "cell_type": "code",
   "execution_count": 19,
   "metadata": {},
   "outputs": [
    {
     "data": {
      "text/plain": [
       "0       sxa459@psu.edu\n",
       "1      CFD5112@PSU.EDU\n",
       "2      MAG5188@PSU.EDU\n",
       "3      ama5044@psu.edu\n",
       "4       axg130@psu.edu\n",
       "5       kub288@psu.edu\n",
       "6      AMB5012@PSU.EDU\n",
       "7      LQB5283@PSU.EDU\n",
       "8      mjg5978@psu.edu\n",
       "9      EKC5166@PSU.EDU\n",
       "10        cke5@psu.edu\n",
       "11       JPK14@PSU.EDU\n",
       "12      gjd131@psu.edu\n",
       "13     SMC1079@PSU.EDU\n",
       "14     MMK5725@PSU.EDU\n",
       "15        TPA3@PSU.EDU\n",
       "16     smb6742@psu.edu\n",
       "17      amb397@psu.edu\n",
       "18        ndd6@psu.edu\n",
       "19     JME5033@PSU.EDU\n",
       "20     TMC5621@PSU.EDU\n",
       "21      LDC144@PSU.EDU\n",
       "22       rnh16@psu.edu\n",
       "23     EJC5174@PSU.EDU\n",
       "24      auc455@psu.edu\n",
       "25       ahb13@psu.edu\n",
       "26      JZC140@PSU.EDU\n",
       "27     JAK5973@PSU.EDU\n",
       "28     mrc5163@psu.edu\n",
       "29     AXE5177@PSU.EDU\n",
       "            ...       \n",
       "351    sbr5275@psu.edu\n",
       "352    smj5601@psu.edu\n",
       "353    lcc5242@psu.edu\n",
       "354    glb5210@psu.edu\n",
       "355       cgg7@psu.edu\n",
       "356    AMB7119@PSU.EDU\n",
       "357      lzk33@psu.edu\n",
       "358    AME5495@PSU.EDU\n",
       "359      muf93@psu.edu\n",
       "360    mve5185@psu.edu\n",
       "361     mdj169@psu.edu\n",
       "362    DTB5189@PSU.EDU\n",
       "363     cpk104@psu.edu\n",
       "364    smr5903@psu.edu\n",
       "365    CMC6307@PSU.EDU\n",
       "366    hdk5064@psu.edu\n",
       "367     gmf148@psu.edu\n",
       "368     SWF127@PSU.EDU\n",
       "369    NMB5560@PSU.EDU\n",
       "370    AMB7229@PSU.EDU\n",
       "371    VVJ5031@PSU.EDU\n",
       "372    jlg6213@psu.edu\n",
       "373    HDA5030@PSU.EDU\n",
       "374    MZK5588@PSU.EDU\n",
       "375    seb5771@psu.edu\n",
       "376    JBD5273@PSU.EDU\n",
       "377    KKD5199@PSU.EDU\n",
       "378      jrc88@psu.edu\n",
       "379    AOG5246@PSU.EDU\n",
       "380    eve5094@psu.edu\n",
       "Name: Email, Length: 381, dtype: object"
      ]
     },
     "execution_count": 19,
     "metadata": {},
     "output_type": "execute_result"
    }
   ],
   "source": [
    "students.Email"
   ]
  },
  {
   "cell_type": "code",
   "execution_count": 26,
   "metadata": {},
   "outputs": [
    {
     "data": {
      "text/plain": [
       "0       sxa459\n",
       "1      CFD5112\n",
       "2      MAG5188\n",
       "3      ama5044\n",
       "4       axg130\n",
       "5       kub288\n",
       "6      AMB5012\n",
       "7      LQB5283\n",
       "8      mjg5978\n",
       "9      EKC5166\n",
       "10        cke5\n",
       "11       JPK14\n",
       "12      gjd131\n",
       "13     SMC1079\n",
       "14     MMK5725\n",
       "15        TPA3\n",
       "16     smb6742\n",
       "17      amb397\n",
       "18        ndd6\n",
       "19     JME5033\n",
       "20     TMC5621\n",
       "21      LDC144\n",
       "22       rnh16\n",
       "23     EJC5174\n",
       "24      auc455\n",
       "25       ahb13\n",
       "26      JZC140\n",
       "27     JAK5973\n",
       "28     mrc5163\n",
       "29     AXE5177\n",
       "        ...   \n",
       "351    sbr5275\n",
       "352    smj5601\n",
       "353    lcc5242\n",
       "354    glb5210\n",
       "355       cgg7\n",
       "356    AMB7119\n",
       "357      lzk33\n",
       "358    AME5495\n",
       "359      muf93\n",
       "360    mve5185\n",
       "361     mdj169\n",
       "362    DTB5189\n",
       "363     cpk104\n",
       "364    smr5903\n",
       "365    CMC6307\n",
       "366    hdk5064\n",
       "367     gmf148\n",
       "368     SWF127\n",
       "369    NMB5560\n",
       "370    AMB7229\n",
       "371    VVJ5031\n",
       "372    jlg6213\n",
       "373    HDA5030\n",
       "374    MZK5588\n",
       "375    seb5771\n",
       "376    JBD5273\n",
       "377    KKD5199\n",
       "378      jrc88\n",
       "379    AOG5246\n",
       "380    eve5094\n",
       "Name: id, Length: 381, dtype: object"
      ]
     },
     "execution_count": 26,
     "metadata": {},
     "output_type": "execute_result"
    }
   ],
   "source": [
    "students['id']=students.Email.str.split(\"@\", n=1, expand=True)[0]\n",
    "if '_id' in students.columns:\n",
    "    del students['_id']\n",
    "students.id"
   ]
  },
  {
   "cell_type": "code",
   "execution_count": 28,
   "metadata": {},
   "outputs": [],
   "source": [
    "#drop rows with 5 or more null values\n",
    "students.dropna(thresh=5, inplace=True)\n",
    "students = students.replace('', np.nan)"
   ]
  },
  {
   "cell_type": "code",
   "execution_count": 37,
   "metadata": {},
   "outputs": [],
   "source": [
    "#number of courses, credits are too dirty as many entered text instead of a number\n",
    "drop_columns = [\"surveyCompletion\", \"Duration (in seconds)\", \"NumCourses\", \"transferCredits\", \"NumTranCredits\",\n",
    "                \"WhyProfile\", \"otherChannels\", \"otherEmploy\", \"NonUS\", \"otherIndusry\", \"KnownThroughProfile\",\n",
    "                \"otherEth\", \"PPLinPerson\", \"otherEmail\"]\n",
    "#only drop these columns if they actually exist in the data\n",
    "drop_columns = [col for col in drop_columns if col in students.columns]\n",
    "students.drop(columns=drop_columns, inplace=True)\n",
    "#names of all the soc columns\n",
    "SOCs = ['SOC'+str(x+1) for x in range(10)]\n",
    "#names of all the CCE columns\n",
    "CCEs = ['CCE'+str(x+1) for x in range(24)]\n",
    "#mapping from each text column to ordinal values\n",
    "#format is array of dicts containing keys 'col' and 'mapping'\n",
    "ordinal_cols_mapping = []"
   ]
  },
  {
   "cell_type": "code",
   "execution_count": 38,
   "metadata": {},
   "outputs": [],
   "source": [
    "#the following are mappings from textual column values to numberical ones\n",
    "important_scale = [\n",
    "        ('Extremely important', 7),\n",
    "        ('Pretty important', 6),\n",
    "        ('Fairly important', 5),\n",
    "        ('Moderately important', 4),\n",
    "        ('Somewhat important', 3),\n",
    "        ('A little important', 2),\n",
    "        ('Not at all important', 1)\n",
    "]\n",
    "\n",
    "interest_scale = [\n",
    "    ('Extremely interested', 5),\n",
    "    ('Rather interested', 4),\n",
    "    ('Somewhat interested', 3),\n",
    "    ('A bit of interest', 2),\n",
    "    ('Not at all interested', 1)\n",
    "]\n",
    "\n",
    "Agree_scale = [\n",
    "        ('Strongly agree', 5),\n",
    "        ('Somewhat agree', 4),\n",
    "        ('Neither agree nor disagree', 3),\n",
    "        ('Somewhat disagree', 2),\n",
    "        ('Strongly disagree', 1)\n",
    "]"
   ]
  },
  {
   "cell_type": "code",
   "execution_count": 40,
   "metadata": {},
   "outputs": [],
   "source": [
    "#fill in the mapping array \n",
    "for SOC in SOCs:\n",
    "    ordinal_cols_mapping.append({\n",
    "        \"col\": SOC,\n",
    "        \"mapping\": Agree_scale\n",
    "    })\n",
    "\n",
    "for CCE in CCEs:\n",
    "    ordinal_cols_mapping.append({\n",
    "        \"col\": CCE,\n",
    "        \"mapping\": Agree_scale\n",
    "    })\n",
    "\n",
    "for PeerInfo in [\"PeerAvail\", \"PeerProfession\", \"PeerEdu\", \"PeerDetails\"]:\n",
    "    ordinal_cols_mapping.append({\n",
    "        \"col\": PeerInfo,\n",
    "        \"mapping\": important_scale\n",
    "    })\n",
    "\n",
    "ordinal_cols_mapping.append({\n",
    "    \"col\": \"Mconnected\",\n",
    "    \"mapping\": interest_scale\n",
    "})"
   ]
  },
  {
   "cell_type": "code",
   "execution_count": 43,
   "metadata": {},
   "outputs": [],
   "source": [
    "encoder = ce.OrdinalEncoder(mapping=ordinal_cols_mapping, return_df=True)\n",
    "df = encoder.fit_transform(students)\n",
    "#Create new columns by taking the mean of related columns for each row\n",
    "df['SOC_f'] = df.apply(lambda row: np.mean([row['SOC9'], row['SOC10']]), axis=1)\n",
    "df['SOC_id'] = df.apply(lambda row: np.mean([row['SOC1'], row['SOC2'], row['SOC3'], row['SOC4'], row['SOC5']]), axis=1)\n",
    "df['CCE_IR'] = df.apply(lambda row: np.mean([row['CCE13'], row['CCE10'], row['CCE19'], row['CCE9']]), axis=1)\n",
    "df['CCE_Coor'] = df.apply(lambda row: np.mean([row['CCE24'], row['CCE20'], row['CCE22'], row['CCE21'], row['CCE17']]), axis=1)\n",
    "df['CCE_SS'] = df.apply(lambda row: np.mean([row['CCE1'], row['CCE2'], row['CCE3'], row['CCE4']]), axis=1)\n",
    "df.drop(columns=CCEs + SOCs, inplace=True)"
   ]
  },
  {
   "cell_type": "code",
   "execution_count": 44,
   "metadata": {},
   "outputs": [
    {
     "name": "stdout",
     "output_type": "stream",
     "text": [
      "Before digit processing, kids are [ 0.  1.  2.  3.  4. nan  5.  9.]\n"
     ]
    }
   ],
   "source": [
    "none_i = re.compile(r'none', flags=re.IGNORECASE)\n",
    "df['kids'].replace(none_i, 0, inplace=True)\n",
    "none_i = re.compile(r'zero', flags=re.IGNORECASE)\n",
    "df['kids'].replace(none_i, 0, inplace=True)\n",
    "stringany = re.compile(r'[a-zA-Z ()]+', flags=re.IGNORECASE)\n",
    "print(f'Before digit processing, kids are {df.kids.unique()}')\n",
    "df.kids = df['kids'].replace(stringany, '')"
   ]
  },
  {
   "cell_type": "code",
   "execution_count": 52,
   "metadata": {},
   "outputs": [
    {
     "name": "stdout",
     "output_type": "stream",
     "text": [
      "mode listed are Series([], Name: 0, dtype: float64)\n",
      "381\n"
     ]
    }
   ],
   "source": [
    "categorical_cols = [\"gender\", \"InUS\", \"ethnicity\", \"Usstate\", \"marrital\", \"employment\", \"industry\"]\n",
    "categorical_cols = [c for c in categorical_cols if c in df.columns]\n",
    "df_c_mode = df[categorical_cols].mode()\n",
    "print(f'mode listed are {df_c_mode.iloc[0]}')\n",
    "print(len(df_c_mode))\n",
    "# df.loc[:, categorical_cols].fillna(df_c_mode.iloc[0], inplace=True)\n",
    "for col in categorical_cols+['kids']:\n",
    "    df[col].fillna(df[col].mode().iloc[0], inplace=True)\n",
    "onehotecoder = ce.OneHotEncoder(cols=categorical_cols, handle_unknown='ignore')\n",
    "df = onehotecoder.fit_transform(df)"
   ]
  },
  {
   "cell_type": "code",
   "execution_count": 58,
   "metadata": {},
   "outputs": [
    {
     "data": {
      "text/plain": [
       "[]"
      ]
     },
     "execution_count": 58,
     "metadata": {},
     "output_type": "execute_result"
    }
   ],
   "source": [
    "col_non_num = [c for c in df.columns if df[c].dtype == 'object']\n",
    "df.drop(columns=col_non_num, inplace=True)\n",
    "col_non_num"
   ]
  },
  {
   "cell_type": "code",
   "execution_count": 60,
   "metadata": {},
   "outputs": [],
   "source": [
    "# fill with mode, mean, or median\n",
    "df_mode, df_mean, df_median = df.mode().iloc[0], df.mean(), df.median()\n",
    "df.fillna(df_median, inplace=True)\n",
    "data = StandardScaler().fit_transform(df.values)"
   ]
  },
  {
   "cell_type": "code",
   "execution_count": 62,
   "metadata": {},
   "outputs": [],
   "source": [
    "A_sparse = sparse.csr_matrix(data)\n",
    "similarities = cosine_similarity(A_sparse)"
   ]
  },
  {
   "cell_type": "code",
   "execution_count": 64,
   "metadata": {},
   "outputs": [],
   "source": [
    "similarities_sparse = cosine_similarity(A_sparse, dense_output=False)\n",
    "euclidean_matrix = pd.DataFrame(squareform(pdist(data, metric='euclidean')), columns=students['id'], index=students['id'])"
   ]
  },
  {
   "cell_type": "code",
   "execution_count": 65,
   "metadata": {},
   "outputs": [
    {
     "data": {
      "text/plain": [
       "<pymongo.results.InsertManyResult at 0x7fb1bd33f848>"
      ]
     },
     "execution_count": 65,
     "metadata": {},
     "output_type": "execute_result"
    }
   ],
   "source": [
    "cosine_matrix = pd.DataFrame(squareform(pdist(data, metric='cosine')), columns=students['id'], index=students['id'])\n",
    "cos = cosine_matrix.to_dict(orient='records')  # Here's our added param..\n",
    "db.cosine_matrix.insert_many(cos)\n",
    "euc = euclidean_matrix.to_dict(orient='records2q34')  # Here's our added param..\n",
    "db.euclidean_matrix.insert_many(euc)"
   ]
  },
  {
   "cell_type": "code",
   "execution_count": 68,
   "metadata": {
    "scrolled": true
   },
   "outputs": [
    {
     "data": {
      "text/plain": [
       "['gender_1',\n",
       " 'gender_2',\n",
       " 'InUS_1',\n",
       " 'InUS_2',\n",
       " 'ethnicity_1',\n",
       " 'ethnicity_2',\n",
       " 'ethnicity_3',\n",
       " 'ethnicity_4',\n",
       " 'ethnicity_5',\n",
       " 'ethnicity_6',\n",
       " 'ethnicity_7',\n",
       " 'Usstate_1',\n",
       " 'Usstate_2',\n",
       " 'Usstate_3',\n",
       " 'Usstate_4',\n",
       " 'Usstate_5',\n",
       " 'Usstate_6',\n",
       " 'Usstate_7',\n",
       " 'Usstate_8',\n",
       " 'Usstate_9',\n",
       " 'Usstate_10',\n",
       " 'Usstate_11',\n",
       " 'Usstate_12',\n",
       " 'Usstate_13',\n",
       " 'Usstate_14',\n",
       " 'Usstate_15',\n",
       " 'Usstate_16',\n",
       " 'Usstate_17',\n",
       " 'Usstate_18',\n",
       " 'Usstate_19',\n",
       " 'Usstate_20',\n",
       " 'Usstate_21',\n",
       " 'Usstate_22',\n",
       " 'Usstate_23',\n",
       " 'Usstate_24',\n",
       " 'Usstate_25',\n",
       " 'Usstate_26',\n",
       " 'Usstate_27',\n",
       " 'Usstate_28',\n",
       " 'Usstate_29',\n",
       " 'Usstate_30',\n",
       " 'Usstate_31',\n",
       " 'Usstate_32',\n",
       " 'Usstate_33',\n",
       " 'Usstate_34',\n",
       " 'Usstate_35',\n",
       " 'Usstate_36',\n",
       " 'Usstate_37',\n",
       " 'Usstate_38',\n",
       " 'Usstate_39',\n",
       " 'marrital_1',\n",
       " 'marrital_2',\n",
       " 'marrital_3',\n",
       " 'marrital_4',\n",
       " 'marrital_5',\n",
       " 'employment_1',\n",
       " 'employment_2',\n",
       " 'employment_3',\n",
       " 'employment_4',\n",
       " 'employment_5',\n",
       " 'employment_6',\n",
       " 'employment_7',\n",
       " 'employment_8',\n",
       " 'employment_9',\n",
       " 'employment_10',\n",
       " 'employment_11',\n",
       " 'employment_12',\n",
       " 'employment_13',\n",
       " 'industry_1',\n",
       " 'industry_2',\n",
       " 'industry_3',\n",
       " 'industry_4',\n",
       " 'industry_5',\n",
       " 'industry_6',\n",
       " 'industry_7',\n",
       " 'industry_8',\n",
       " 'industry_9',\n",
       " 'industry_10',\n",
       " 'industry_11',\n",
       " 'industry_12',\n",
       " 'industry_13',\n",
       " 'industry_14',\n",
       " 'industry_15',\n",
       " 'industry_16',\n",
       " 'industry_17',\n",
       " 'industry_18',\n",
       " 'industry_19',\n",
       " 'Latitude',\n",
       " 'Longitude',\n",
       " 'Mconnected',\n",
       " 'PeerAvail',\n",
       " 'PeerDetails',\n",
       " 'PeerEdu',\n",
       " 'PeerProfession',\n",
       " 'ProfileComplete',\n",
       " 'age',\n",
       " 'enrollYear',\n",
       " 'kids',\n",
       " 'progress',\n",
       " 'SOC_f',\n",
       " 'SOC_id',\n",
       " 'CCE_IR',\n",
       " 'CCE_Coor',\n",
       " 'CCE_SS']"
      ]
     },
     "execution_count": 68,
     "metadata": {},
     "output_type": "execute_result"
    }
   ],
   "source": [
    "list(df.columns)"
   ]
  },
  {
   "cell_type": "code",
   "execution_count": 70,
   "metadata": {},
   "outputs": [],
   "source": [
    "from scipy.spatial.distance import cosine\n",
    "from sklearn.metrics import jaccard_similarity_score"
   ]
  },
  {
   "cell_type": "code",
   "execution_count": 94,
   "metadata": {},
   "outputs": [
    {
     "name": "stdout",
     "output_type": "stream",
     "text": [
      "0.5\n",
      "0.6666666666666666\n"
     ]
    },
    {
     "name": "stderr",
     "output_type": "stream",
     "text": [
      "/home/matt/.conda/envs/weare/lib/python3.7/site-packages/ipykernel_launcher.py:71: FutureWarning: Conversion of the second argument of issubdtype from `int` to `np.signedinteger` is deprecated. In future, it will be treated as `np.int64 == np.dtype(int).type`.\n"
     ]
    }
   ],
   "source": [
    "x = [1, 0, 0, 1, 0, 0]\n",
    "y = [1, 0, 1, 0, 0, 0]\n",
    "print(1 - cosine(x,y))\n",
    "print(jaccard_similarity_score(x,y))\n",
    "D = gower_distances(df)"
   ]
  },
  {
   "cell_type": "code",
   "execution_count": 95,
   "metadata": {},
   "outputs": [
    {
     "data": {
      "text/plain": [
       "array([[0.        , 0.07188543, 0.05294517, ..., 0.02568973, 0.02568973,\n",
       "        0.02568973],\n",
       "       [0.07188543, 0.        , 0.06423889, ..., 0.04660872, 0.04660872,\n",
       "        0.04660872],\n",
       "       [0.05294517, 0.06423889, 0.        , ..., 0.02732194, 0.02732194,\n",
       "        0.02732194],\n",
       "       ...,\n",
       "       [0.02568973, 0.04660872, 0.02732194, ..., 0.        , 0.        ,\n",
       "        0.        ],\n",
       "       [0.02568973, 0.04660872, 0.02732194, ..., 0.        , 0.        ,\n",
       "        0.        ],\n",
       "       [0.02568973, 0.04660872, 0.02732194, ..., 0.        , 0.        ,\n",
       "        0.        ]], dtype=float32)"
      ]
     },
     "execution_count": 95,
     "metadata": {},
     "output_type": "execute_result"
    }
   ],
   "source": [
    "D"
   ]
  },
  {
   "cell_type": "code",
   "execution_count": 86,
   "metadata": {},
   "outputs": [],
   "source": []
  }
 ],
 "metadata": {
  "kernelspec": {
   "display_name": "Python 3",
   "language": "python",
   "name": "python3"
  },
  "language_info": {
   "codemirror_mode": {
    "name": "ipython",
    "version": 3
   },
   "file_extension": ".py",
   "mimetype": "text/x-python",
   "name": "python",
   "nbconvert_exporter": "python",
   "pygments_lexer": "ipython3",
   "version": "3.7.2"
  }
 },
 "nbformat": 4,
 "nbformat_minor": 2
}
